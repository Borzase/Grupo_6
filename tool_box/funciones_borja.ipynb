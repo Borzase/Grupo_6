{
 "cells": [
  {
   "cell_type": "code",
   "execution_count": null,
   "id": "1d06b2ff",
   "metadata": {},
   "outputs": [],
   "source": [
    "import pandas as pd\n",
    "import numpy as np\n",
    "import matplotlib.pyplot as plt\n",
    "import seaborn as sns\n",
    "from scipy.stats import chi2_contingency, f_oneway, ttest_ind, mannwhitneyu, pearsonr\n",
    "\n",
    "df_titanic = pd.read_csv(\"titanic.csv\")\n",
    "df_tit = pd.read_csv(\"titanic_modified.csv\")\n",
    "df_car = pd.read_csv(\"car_crashes.csv\", sep = \"|\")"
   ]
  },
  {
   "cell_type": "code",
   "execution_count": null,
   "id": "507026ec",
   "metadata": {},
   "outputs": [],
   "source": [
    "df_car.head()"
   ]
  },
  {
   "cell_type": "code",
   "execution_count": null,
   "id": "34fcf49a",
   "metadata": {},
   "outputs": [],
   "source": [
    "from tool_boxborja import describe_df, tipifica_variables, get_features_num_regression\n",
    "from tool_boxborja import plot_features_num_regression,get_features_cat_regression, plot_features_cat_regression"
   ]
  },
  {
   "cell_type": "code",
   "execution_count": null,
   "id": "5c40a308",
   "metadata": {},
   "outputs": [],
   "source": [
    "describe_df(df_car)"
   ]
  },
  {
   "cell_type": "code",
   "execution_count": null,
   "id": "d4f1967b",
   "metadata": {},
   "outputs": [],
   "source": [
    "tipifica_variables(df_car)\n"
   ]
  },
  {
   "cell_type": "code",
   "execution_count": null,
   "id": "ae704ebd",
   "metadata": {},
   "outputs": [],
   "source": [
    "get_features_num_regression(df_car, 'total', 0.5, 0.01)"
   ]
  },
  {
   "cell_type": "code",
   "execution_count": null,
   "id": "3a61e4e6",
   "metadata": {},
   "outputs": [],
   "source": [
    "from scipy.stats import pearsonr\n",
    "for col in df_car.columns:\n",
    "    if df_car[col].dtype != 'object':\n",
    "        print(f\"Columna {col} --->\", pearsonr(df_car[\"total\"], df_car[col]))\n"
   ]
  },
  {
   "cell_type": "code",
   "execution_count": null,
   "id": "7f008fcd",
   "metadata": {},
   "outputs": [],
   "source": [
    "plot_features_num_regression(df_car, 'total', lista = ['speeding', 'alcohol'], pvalue =0.05)"
   ]
  },
  {
   "cell_type": "code",
   "execution_count": null,
   "id": "5f119afa",
   "metadata": {},
   "outputs": [],
   "source": [
    "get_features_cat_regression(df_titanic, \"fare\", pvalue=0.05)"
   ]
  },
  {
   "cell_type": "code",
   "execution_count": null,
   "id": "f689fe3a",
   "metadata": {},
   "outputs": [],
   "source": [
    "get_features_cat_regression(df_titanic, \"fare\", pvalue=1.05)"
   ]
  },
  {
   "cell_type": "code",
   "execution_count": null,
   "id": "a404eb58",
   "metadata": {},
   "outputs": [],
   "source": [
    "get_features_cat_regression(df_titanic, \"fare\", pvalue=0.06)"
   ]
  },
  {
   "cell_type": "code",
   "execution_count": null,
   "id": "d9eb557a",
   "metadata": {},
   "outputs": [],
   "source": [
    "plot_features_cat_regression(df_titanic,target_col= \"fare\", columns = [], pvalue = 0.05, with_individual_plot = False)\n"
   ]
  },
  {
   "cell_type": "code",
   "execution_count": null,
   "id": "16d5f027",
   "metadata": {},
   "outputs": [],
   "source": [
    "plot_features_cat_regression(df_titanic,target_col= \"fare\", columns = ['embarked','class'], pvalue = 0.05, with_individual_plot = False)"
   ]
  },
  {
   "cell_type": "code",
   "execution_count": null,
   "id": "b7cb1574",
   "metadata": {},
   "outputs": [],
   "source": []
  },
  {
   "cell_type": "code",
   "execution_count": null,
   "id": "de4a0bd3",
   "metadata": {},
   "outputs": [],
   "source": []
  },
  {
   "cell_type": "code",
   "execution_count": null,
   "id": "760cdf02",
   "metadata": {},
   "outputs": [],
   "source": []
  },
  {
   "cell_type": "code",
   "execution_count": null,
   "id": "0a90e512",
   "metadata": {},
   "outputs": [],
   "source": []
  }
 ],
 "metadata": {
  "kernelspec": {
   "display_name": "Python 3",
   "language": "python",
   "name": "python3"
  },
  "language_info": {
   "codemirror_mode": {
    "name": "ipython",
    "version": 3
   },
   "file_extension": ".py",
   "mimetype": "text/x-python",
   "name": "python",
   "nbconvert_exporter": "python",
   "pygments_lexer": "ipython3",
   "version": "3.9.6"
  }
 },
 "nbformat": 4,
 "nbformat_minor": 5
}
